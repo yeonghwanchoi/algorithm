{
 "cells": [
  {
   "cell_type": "code",
   "execution_count": 18,
   "id": "wired-ambassador",
   "metadata": {},
   "outputs": [
    {
     "name": "stdout",
     "output_type": "stream",
     "text": [
      "/Users/yeonghwanchoi\r\n"
     ]
    }
   ],
   "source": [
    "!pwd"
   ]
  },
  {
   "cell_type": "code",
   "execution_count": null,
   "id": "communist-advance",
   "metadata": {},
   "outputs": [],
   "source": [
    "#coding text"
   ]
  },
  {
   "cell_type": "code",
   "execution_count": 1,
   "id": "forty-moore",
   "metadata": {},
   "outputs": [],
   "source": [
    "maga=list('give me one grand today night'.split())\n",
    "note=list('give one grand today'.split())"
   ]
  },
  {
   "cell_type": "code",
   "execution_count": 2,
   "id": "universal-draft",
   "metadata": {},
   "outputs": [],
   "source": [
    "from collections import Counter\n",
    "def quiz(maga, note):\n",
    "    if Counter(note) - Counter(maga) == {}:\n",
    "        return 'Yes'\n",
    "    else:\n",
    "        return 'No'"
   ]
  },
  {
   "cell_type": "code",
   "execution_count": 3,
   "id": "generous-collapse",
   "metadata": {},
   "outputs": [
    {
     "data": {
      "text/plain": [
       "'Yes'"
      ]
     },
     "execution_count": 3,
     "metadata": {},
     "output_type": "execute_result"
    }
   ],
   "source": [
    "quiz(maga,note)"
   ]
  },
  {
   "cell_type": "code",
   "execution_count": 4,
   "id": "married-indonesian",
   "metadata": {},
   "outputs": [
    {
     "data": {
      "text/plain": [
       "Counter()"
      ]
     },
     "execution_count": 4,
     "metadata": {},
     "output_type": "execute_result"
    }
   ],
   "source": [
    "Counter(note) - Counter(maga)"
   ]
  },
  {
   "cell_type": "code",
   "execution_count": 6,
   "id": "irish-edwards",
   "metadata": {},
   "outputs": [],
   "source": [
    "counter = Counter('word')\n",
    "max_count = -1\n",
    "for letter in counter:\n",
    "    if counter[letter] > max_count:\n",
    "        max_count = counter[letter]\n",
    "        max_letter = letter"
   ]
  },
  {
   "cell_type": "code",
   "execution_count": 17,
   "id": "referenced-dinner",
   "metadata": {},
   "outputs": [
    {
     "data": {
      "text/plain": [
       "dict_values"
      ]
     },
     "execution_count": 17,
     "metadata": {},
     "output_type": "execute_result"
    }
   ],
   "source": [
    "type(Counter('word').values())"
   ]
  },
  {
   "cell_type": "code",
   "execution_count": 49,
   "id": "expected-indonesian",
   "metadata": {},
   "outputs": [],
   "source": [
    "counter = Counter('word')"
   ]
  },
  {
   "cell_type": "code",
   "execution_count": 55,
   "id": "other-setup",
   "metadata": {},
   "outputs": [
    {
     "data": {
      "text/plain": [
       "dict_keys(['w', 'o', 'r', 'd'])"
      ]
     },
     "execution_count": 55,
     "metadata": {},
     "output_type": "execute_result"
    }
   ],
   "source": [
    "counter.keys()"
   ]
  },
  {
   "cell_type": "code",
   "execution_count": 60,
   "id": "sublime-orbit",
   "metadata": {},
   "outputs": [
    {
     "data": {
      "text/plain": [
       "Counter({'w': 1, 'o': 1, 'r': 1, 'd': 1})"
      ]
     },
     "execution_count": 60,
     "metadata": {},
     "output_type": "execute_result"
    }
   ],
   "source": [
    "counter"
   ]
  },
  {
   "cell_type": "code",
   "execution_count": 56,
   "id": "foster-institute",
   "metadata": {},
   "outputs": [
    {
     "name": "stdout",
     "output_type": "stream",
     "text": [
      "w\n",
      "o\n",
      "r\n",
      "d\n"
     ]
    }
   ],
   "source": [
    "for letter in counter:\n",
    "    print(letter)"
   ]
  },
  {
   "cell_type": "code",
   "execution_count": null,
   "id": "superb-flower",
   "metadata": {},
   "outputs": [],
   "source": []
  }
 ],
 "metadata": {
  "kernelspec": {
   "display_name": "Python 3",
   "language": "python",
   "name": "python3"
  },
  "language_info": {
   "codemirror_mode": {
    "name": "ipython",
    "version": 3
   },
   "file_extension": ".py",
   "mimetype": "text/x-python",
   "name": "python",
   "nbconvert_exporter": "python",
   "pygments_lexer": "ipython3",
   "version": "3.8.5"
  },
  "toc": {
   "base_numbering": 1,
   "nav_menu": {},
   "number_sections": true,
   "sideBar": true,
   "skip_h1_title": false,
   "title_cell": "Table of Contents",
   "title_sidebar": "Contents",
   "toc_cell": false,
   "toc_position": {},
   "toc_section_display": true,
   "toc_window_display": false
  },
  "varInspector": {
   "cols": {
    "lenName": 16,
    "lenType": 16,
    "lenVar": 40
   },
   "kernels_config": {
    "python": {
     "delete_cmd_postfix": "",
     "delete_cmd_prefix": "del ",
     "library": "var_list.py",
     "varRefreshCmd": "print(var_dic_list())"
    },
    "r": {
     "delete_cmd_postfix": ") ",
     "delete_cmd_prefix": "rm(",
     "library": "var_list.r",
     "varRefreshCmd": "cat(var_dic_list()) "
    }
   },
   "types_to_exclude": [
    "module",
    "function",
    "builtin_function_or_method",
    "instance",
    "_Feature"
   ],
   "window_display": false
  }
 },
 "nbformat": 4,
 "nbformat_minor": 5
}
